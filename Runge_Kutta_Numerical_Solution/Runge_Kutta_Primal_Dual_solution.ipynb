{
 "cells": [
  {
   "cell_type": "code",
   "execution_count": 1,
   "metadata": {},
   "outputs": [],
   "source": [
    "import numpy as np\n",
    "import matplotlib.pyplot as plt"
   ]
  },
  {
   "cell_type": "code",
   "execution_count": 24,
   "metadata": {},
   "outputs": [],
   "source": [
    "def runge_kutta_matrix(ode_fun, t_final, t_initial, y_terminal, n):\n",
    "    \"\"\"\n",
    "    Solve a matrix ODE using 4th order Runge-Kutta method, working backwards.\n",
    "\n",
    "    Parameters\n",
    "    ----------\n",
    "    ode_fun : callable\n",
    "        Function to compute the ODE derivatives, with signature\n",
    "        ode_fun(t: float, y: np.ndarray) -> np.ndarray, where y is M x N matrix.\n",
    "    t_final : float\n",
    "        Final time.\n",
    "    t_initial : float\n",
    "        Initial time.\n",
    "    y_terminal : np.ndarray, shape (M, N)\n",
    "        Terminal conditions as a 2D numpy array.\n",
    "    n : int\n",
    "        Number of time steps to divide the interval [t_initial, t_final] into.\n",
    "\n",
    "    Returns\n",
    "    -------\n",
    "    t : np.ndarray, shape (n+1,)\n",
    "        1D numpy array with linearly spaced values from t_initial to t_final.\n",
    "    y : np.ndarray, shape (n+1, M, N)\n",
    "        3D numpy array where the ODE solution is stored for each time step.\n",
    "\n",
    "    \"\"\"\n",
    "    # Generate linearly spaced values from t_final to t_initial\n",
    "    t = np.linspace(t_final, t_initial, n+1)\n",
    "    # Calculate negative step size\n",
    "    h = -(t_final - t_initial) / n\n",
    "    \n",
    "    # Create numpy array y with the same shape as y_terminal\n",
    "    M, N = y_terminal.shape\n",
    "    y = np.zeros((n+1, M, N))\n",
    "    # Set terminal conditions as the first element of y\n",
    "    y[0, :, :] = y_terminal\n",
    "    \n",
    "    # Iterate through time steps\n",
    "    for i in range(n):\n",
    "        # Calculate intermediate values k1, k2, k3, and k4\n",
    "        k1 = h * ode_fun(t[i], y[i, :, :])\n",
    "        k2 = h * ode_fun(t[i] - h/2, y[i, :, :] + k1/2)\n",
    "        k3 = h * ode_fun(t[i] - h/2, y[i, :, :] + k2/2)\n",
    "        k4 = h * ode_fun(t[i] - h, y[i, :, :] + k3)\n",
    "        \n",
    "        # Update y at next time step\n",
    "        y[i+1, :, :] = y[i, :, :] + (k1 + 2*k2 + 2*k3 + k4) / 6\n",
    "    \n",
    "    # Return flipped t and y arrays (ascending order of time)\n",
    "    return np.flip(t), np.flip(y, axis=0)"
   ]
  },
  {
   "cell_type": "code",
   "execution_count": 25,
   "metadata": {},
   "outputs": [
    {
     "name": "stdout",
     "output_type": "stream",
     "text": [
      "[[0.5 3. ]\n",
      " [3.  0.5]] [[0.5 3. ]\n",
      " [3.  0.5]] [[0.5 3. ]\n",
      " [3.  0.5]] [[0.5 3. ]\n",
      " [3.  0.5]]\n"
     ]
    }
   ],
   "source": [
    "A = np.array([[0.5, 3.0], [3.0, 0.5]])\n",
    "B = np.array([[0.5, 3.0], [3.0, 0.5]])\n",
    "C = np.array([[0.5, 3.0], [3.0, 0.5]])\n",
    "D = np.array([[0.5, 3.0], [3.0, 0.5]])\n",
    "A_T = np.transpose(A)\n",
    "B_T = np.transpose(B)\n",
    "C_T = np.transpose(C)\n",
    "D_T = np.transpose(D)\n",
    "Q = np.array([[1.0, 2.0], [2.0, 1.0]])\n",
    "R = np.array([[1.0, 3.0], [3.0, 1.0]])\n",
    "S = np.array([[2.0, 3.0], [3.0, 2.0]])\n",
    "S_T = np.transpose(S)\n",
    "\n",
    "QSSR = np.concatenate((np.concatenate((Q, S.T), axis=1), np.concatenate((S, R), axis=1)), axis=0)\n",
    "\n",
    "# compute the inverse of result\n",
    "QSSR_inv = np.linalg.inv(QSSR)\n",
    "\n",
    "# extract the submatrices\n",
    "Q_tilde = QSSR_inv[:2, :2]\n",
    "S_tilde = QSSR_inv[:2, 2:]\n",
    "R_tilde = QSSR_inv[2:, 2:]\n",
    "\n",
    "\n",
    "\n",
    "# Terminal conditions\n",
    "G = np.array([[3.8, 4.2], [4.2, 3.8]])\n",
    "y_primal_terminal = - G\n",
    "y_dual_terminal = - np.linalg.inv(G)\n",
    "\n",
    "print(A_T, B_T, C_T, D_T)\n"
   ]
  },
  {
   "cell_type": "code",
   "execution_count": 26,
   "metadata": {},
   "outputs": [],
   "source": [
    "def P_RHS(t, y):\n",
    "\n",
    "    theta = np.linalg.inv(D_T @ y @ D - R) @ (S - B_T @ y - D_T @ y @ C)\n",
    "\n",
    "    dydt = Q + theta.T @ S + S_T @ theta + theta.T @ R @ theta -  A_T @ y - y.T @ A - theta.T @ B_T @ y.T - y @ B @ theta\\\n",
    "         - (C_T + theta.T @ D_T) @ y @ (C + D @ theta)\n",
    "\n",
    "\n",
    "    return dydt\n",
    "\n",
    "def P_tilde_RHS(t, y):\n",
    "\n",
    "    mu = (y - D @ S_tilde) @ np.linalg.inv(Q_tilde) @ np.transpose(S_tilde) @ D_T + D @ R_tilde @ D_T\n",
    "    theta_1 = np.linalg.inv(mu) @ ((y - D @ S_tilde) @ np.linalg.inv(Q_tilde) @ (y - S_tilde.T @ B_T) - D @ R_tilde @ B_T - C @ y)\n",
    "    theta = np.linalg.inv(Q_tilde) @ (y - S_tilde.T @ B_T - S_tilde.T @ D_T @ theta_1)\n",
    "    theta_1_T = theta_1.T\n",
    "    theta_T = theta.T\n",
    "    dydt = - 2 * theta_T @ y + 2 * A * y + 2 * theta_1_T @ C @ y - theta_1_T @ y @ theta_1 + theta_T @ Q_tilde @ theta + (B + theta_1_T @ D) @ R_tilde @ (B_T + D_T @ theta_1)\n",
    "    return dydt\n",
    "\n",
    "def P_tilde_RHS_no_S(t, y):\n",
    "    \n",
    "    theta = np.linalg.inv(Q_tilde) @ y\n",
    "    theta_T = np.transpose(theta)\n",
    "    theta_1 = np.linalg.inv(y - D(t) @ R_tilde @ D(t).T) @ (C(t) @ y + D(t) @ R_tilde @ B(t).T)\n",
    "    theta_1_T = np.transpose(theta_1)\n",
    "\n",
    "    dydt = -y.T @ theta - theta_T @ y + y @ A(t).T + A(t) @ y.T + y.T @ C(t).T @ theta_1 + theta_1_T @ C(t) @ y - theta_1_T @ y @ theta_1\\\n",
    "          + theta_T @ Q_tilde @ theta + (B(t) + theta_1_T @ D(t)) @ R_tilde @ (B(t).T + D(t).T @ theta_1)\n",
    "    return dydt\n",
    "\n",
    "def M_RHS(t, y):\n",
    "\n",
    "    t_dummy, P = runge_kutta_matrix(ode_fun=P_RHS,\n",
    "                                    t_final=1,\n",
    "                                    t_initial=0,\n",
    "                                    y_terminal=y_primal_terminal,\n",
    "                                    n=100)\n",
    "    \n",
    "    p = P\n",
    "    kappa = - np.linalg.inv(D(t).T @ p @ D(t) + R) @ B(t).T @ y\n",
    "    theta = np.linalg.inv(D(t).T @ p @ D(t) - R) @ (S - B(t).T @ p - D(t).T @ p @ C(t))\n",
    "\n",
    "    dydt = - A(t).T @ y - p @ B(t) @ kappa - theta.T @ B(t).T @ y - (C(t).T + theta.T @ D(t).T) @ p @ D(t) @ kappa\\\n",
    "           + S.T @ kappa + theta.T @ R @ kappa\n",
    "    \n",
    "    return dydt"
   ]
  },
  {
   "cell_type": "code",
   "execution_count": 30,
   "metadata": {},
   "outputs": [
    {
     "data": {
      "image/png": "[encoded data removed]",
      "text/plain": [
       "<Figure size 1080x360 with 1 Axes>"
      ]
     },
     "metadata": {
      "needs_background": "light"
     },
     "output_type": "display_data"
    },
    {
     "data": {
      "image/png": "[encoded data removed]",
      "text/plain": [
       "<Figure size 432x288 with 1 Axes>"
      ]
     },
     "metadata": {
      "needs_background": "light"
     },
     "output_type": "display_data"
    },
    {
     "ename": "TypeError",
     "evalue": "'numpy.ndarray' object is not callable",
     "output_type": "error",
     "traceback": [
      "\u001b[1;31m---------------------------------------------------------------------------\u001b[0m",
      "\u001b[1;31mTypeError\u001b[0m                                 Traceback (most recent call last)",
      "\u001b[1;32m<ipython-input-30-0766bf6e34bc>\u001b[0m in \u001b[0;36m<module>\u001b[1;34m\u001b[0m\n\u001b[0;32m     30\u001b[0m \u001b[1;33m\u001b[0m\u001b[0m\n\u001b[0;32m     31\u001b[0m \u001b[1;33m\u001b[0m\u001b[0m\n\u001b[1;32m---> 32\u001b[1;33m t_dual, y_dual = runge_kutta_matrix(P_tilde_RHS_no_S, \n\u001b[0m\u001b[0;32m     33\u001b[0m                                     \u001b[0mt_final\u001b[0m\u001b[1;33m=\u001b[0m\u001b[0mt_final\u001b[0m\u001b[1;33m,\u001b[0m\u001b[1;33m\u001b[0m\u001b[1;33m\u001b[0m\u001b[0m\n\u001b[0;32m     34\u001b[0m                                     \u001b[0mt_initial\u001b[0m\u001b[1;33m=\u001b[0m\u001b[0mt_initial\u001b[0m\u001b[1;33m,\u001b[0m\u001b[1;33m\u001b[0m\u001b[1;33m\u001b[0m\u001b[0m\n",
      "\u001b[1;32m<ipython-input-24-c885dcdde379>\u001b[0m in \u001b[0;36mrunge_kutta_matrix\u001b[1;34m(ode_fun, t_final, t_initial, y_terminal, n)\u001b[0m\n\u001b[0;32m     39\u001b[0m     \u001b[1;32mfor\u001b[0m \u001b[0mi\u001b[0m \u001b[1;32min\u001b[0m \u001b[0mrange\u001b[0m\u001b[1;33m(\u001b[0m\u001b[0mn\u001b[0m\u001b[1;33m)\u001b[0m\u001b[1;33m:\u001b[0m\u001b[1;33m\u001b[0m\u001b[1;33m\u001b[0m\u001b[0m\n\u001b[0;32m     40\u001b[0m         \u001b[1;31m# Calculate intermediate values k1, k2, k3, and k4\u001b[0m\u001b[1;33m\u001b[0m\u001b[1;33m\u001b[0m\u001b[1;33m\u001b[0m\u001b[0m\n\u001b[1;32m---> 41\u001b[1;33m         \u001b[0mk1\u001b[0m \u001b[1;33m=\u001b[0m \u001b[0mh\u001b[0m \u001b[1;33m*\u001b[0m \u001b[0mode_fun\u001b[0m\u001b[1;33m(\u001b[0m\u001b[0mt\u001b[0m\u001b[1;33m[\u001b[0m\u001b[0mi\u001b[0m\u001b[1;33m]\u001b[0m\u001b[1;33m,\u001b[0m \u001b[0my\u001b[0m\u001b[1;33m[\u001b[0m\u001b[0mi\u001b[0m\u001b[1;33m,\u001b[0m \u001b[1;33m:\u001b[0m\u001b[1;33m,\u001b[0m \u001b[1;33m:\u001b[0m\u001b[1;33m]\u001b[0m\u001b[1;33m)\u001b[0m\u001b[1;33m\u001b[0m\u001b[1;33m\u001b[0m\u001b[0m\n\u001b[0m\u001b[0;32m     42\u001b[0m         \u001b[0mk2\u001b[0m \u001b[1;33m=\u001b[0m \u001b[0mh\u001b[0m \u001b[1;33m*\u001b[0m \u001b[0mode_fun\u001b[0m\u001b[1;33m(\u001b[0m\u001b[0mt\u001b[0m\u001b[1;33m[\u001b[0m\u001b[0mi\u001b[0m\u001b[1;33m]\u001b[0m \u001b[1;33m-\u001b[0m \u001b[0mh\u001b[0m\u001b[1;33m/\u001b[0m\u001b[1;36m2\u001b[0m\u001b[1;33m,\u001b[0m \u001b[0my\u001b[0m\u001b[1;33m[\u001b[0m\u001b[0mi\u001b[0m\u001b[1;33m,\u001b[0m \u001b[1;33m:\u001b[0m\u001b[1;33m,\u001b[0m \u001b[1;33m:\u001b[0m\u001b[1;33m]\u001b[0m \u001b[1;33m+\u001b[0m \u001b[0mk1\u001b[0m\u001b[1;33m/\u001b[0m\u001b[1;36m2\u001b[0m\u001b[1;33m)\u001b[0m\u001b[1;33m\u001b[0m\u001b[1;33m\u001b[0m\u001b[0m\n\u001b[0;32m     43\u001b[0m         \u001b[0mk3\u001b[0m \u001b[1;33m=\u001b[0m \u001b[0mh\u001b[0m \u001b[1;33m*\u001b[0m \u001b[0mode_fun\u001b[0m\u001b[1;33m(\u001b[0m\u001b[0mt\u001b[0m\u001b[1;33m[\u001b[0m\u001b[0mi\u001b[0m\u001b[1;33m]\u001b[0m \u001b[1;33m-\u001b[0m \u001b[0mh\u001b[0m\u001b[1;33m/\u001b[0m\u001b[1;36m2\u001b[0m\u001b[1;33m,\u001b[0m \u001b[0my\u001b[0m\u001b[1;33m[\u001b[0m\u001b[0mi\u001b[0m\u001b[1;33m,\u001b[0m \u001b[1;33m:\u001b[0m\u001b[1;33m,\u001b[0m \u001b[1;33m:\u001b[0m\u001b[1;33m]\u001b[0m \u001b[1;33m+\u001b[0m \u001b[0mk2\u001b[0m\u001b[1;33m/\u001b[0m\u001b[1;36m2\u001b[0m\u001b[1;33m)\u001b[0m\u001b[1;33m\u001b[0m\u001b[1;33m\u001b[0m\u001b[0m\n",
      "\u001b[1;32m<ipython-input-26-6360d1f54e96>\u001b[0m in \u001b[0;36mP_tilde_RHS_no_S\u001b[1;34m(t, y)\u001b[0m\n\u001b[0;32m     23\u001b[0m     \u001b[0mtheta\u001b[0m \u001b[1;33m=\u001b[0m \u001b[0mnp\u001b[0m\u001b[1;33m.\u001b[0m\u001b[0mlinalg\u001b[0m\u001b[1;33m.\u001b[0m\u001b[0minv\u001b[0m\u001b[1;33m(\u001b[0m\u001b[0mQ_tilde\u001b[0m\u001b[1;33m)\u001b[0m \u001b[1;33m@\u001b[0m \u001b[0my\u001b[0m\u001b[1;33m\u001b[0m\u001b[1;33m\u001b[0m\u001b[0m\n\u001b[0;32m     24\u001b[0m     \u001b[0mtheta_T\u001b[0m \u001b[1;33m=\u001b[0m \u001b[0mnp\u001b[0m\u001b[1;33m.\u001b[0m\u001b[0mtranspose\u001b[0m\u001b[1;33m(\u001b[0m\u001b[0mtheta\u001b[0m\u001b[1;33m)\u001b[0m\u001b[1;33m\u001b[0m\u001b[1;33m\u001b[0m\u001b[0m\n\u001b[1;32m---> 25\u001b[1;33m     \u001b[0mtheta_1\u001b[0m \u001b[1;33m=\u001b[0m \u001b[0mnp\u001b[0m\u001b[1;33m.\u001b[0m\u001b[0mlinalg\u001b[0m\u001b[1;33m.\u001b[0m\u001b[0minv\u001b[0m\u001b[1;33m(\u001b[0m\u001b[0my\u001b[0m \u001b[1;33m-\u001b[0m \u001b[0mD\u001b[0m\u001b[1;33m(\u001b[0m\u001b[0mt\u001b[0m\u001b[1;33m)\u001b[0m \u001b[1;33m@\u001b[0m \u001b[0mR_tilde\u001b[0m \u001b[1;33m@\u001b[0m \u001b[0mD\u001b[0m\u001b[1;33m(\u001b[0m\u001b[0mt\u001b[0m\u001b[1;33m)\u001b[0m\u001b[1;33m.\u001b[0m\u001b[0mT\u001b[0m\u001b[1;33m)\u001b[0m \u001b[1;33m@\u001b[0m \u001b[1;33m(\u001b[0m\u001b[0mC\u001b[0m\u001b[1;33m(\u001b[0m\u001b[0mt\u001b[0m\u001b[1;33m)\u001b[0m \u001b[1;33m@\u001b[0m \u001b[0my\u001b[0m \u001b[1;33m+\u001b[0m \u001b[0mD\u001b[0m\u001b[1;33m(\u001b[0m\u001b[0mt\u001b[0m\u001b[1;33m)\u001b[0m \u001b[1;33m@\u001b[0m \u001b[0mR_tilde\u001b[0m \u001b[1;33m@\u001b[0m \u001b[0mB\u001b[0m\u001b[1;33m(\u001b[0m\u001b[0mt\u001b[0m\u001b[1;33m)\u001b[0m\u001b[1;33m.\u001b[0m\u001b[0mT\u001b[0m\u001b[1;33m)\u001b[0m\u001b[1;33m\u001b[0m\u001b[1;33m\u001b[0m\u001b[0m\n\u001b[0m\u001b[0;32m     26\u001b[0m     \u001b[0mtheta_1_T\u001b[0m \u001b[1;33m=\u001b[0m \u001b[0mnp\u001b[0m\u001b[1;33m.\u001b[0m\u001b[0mtranspose\u001b[0m\u001b[1;33m(\u001b[0m\u001b[0mtheta_1\u001b[0m\u001b[1;33m)\u001b[0m\u001b[1;33m\u001b[0m\u001b[1;33m\u001b[0m\u001b[0m\n\u001b[0;32m     27\u001b[0m \u001b[1;33m\u001b[0m\u001b[0m\n",
      "\u001b[1;31mTypeError\u001b[0m: 'numpy.ndarray' object is not callable"
     ]
    }
   ],
   "source": [
    "n = 1000\n",
    "t_final = 10\n",
    "t_initial = 0.0\n",
    "\n",
    "\n",
    "t_primal, y_primal = runge_kutta_matrix(ode_fun=P_RHS,\n",
    "                                        t_final=t_final,\n",
    "                                        t_initial=t_initial,\n",
    "                                        y_terminal=y_primal_terminal,\n",
    "                                        n=n)\n",
    "\n",
    "y_inv = np.zeros_like(y_primal)\n",
    "\n",
    "for i in range(y_primal.shape[0]):\n",
    "    y_inv[i] = np.linalg.inv(y_primal[i])\n",
    "\n",
    "plt.figure(figsize=(15, 5))\n",
    "plt.plot(t_primal, np.reshape(y_primal, (n+1, 4)))\n",
    "plt.xlabel(\"Time\")\n",
    "plt.ylabel(\"P(t)\")\n",
    "plt.title(\"Primal\")\n",
    "plt.grid()\n",
    "plt.show()\n",
    "plt.plot(t_primal, np.reshape(y_inv, (n+1, 4)), 'k--')\n",
    "plt.xlabel(\"Time\")\n",
    "plt.ylabel(\"P(t)\")\n",
    "plt.title(\"Primal\")\n",
    "plt.grid()\n",
    "plt.show()\n",
    "\n",
    "\n",
    "t_dual, y_dual = runge_kutta_matrix(P_tilde_RHS_no_S, \n",
    "                                    t_final=t_final, \n",
    "                                    t_initial=t_initial, \n",
    "                                    y_terminal=y_dual_terminal, \n",
    "                                    n=n)\n",
    "\n",
    "plt.figure(figsize=(15, 5))\n",
    "plt.plot(t_dual, np.reshape(y_dual, (n+1, 4)), 'o')\n",
    "plt.plot(t_primal, np.reshape(y_inv, (n+1, 4)), 'k--')\n",
    "plt.xlabel(\"Time\")\n",
    "plt.ylabel(\"P(t)\")\n",
    "plt.title(\"Dual\")\n",
    "plt.grid()\n",
    "plt.show()\n"
   ]
  },
  {
   "cell_type": "code",
   "execution_count": 28,
   "metadata": {},
   "outputs": [
    {
     "ename": "TypeError",
     "evalue": "'numpy.ndarray' object is not callable",
     "output_type": "error",
     "traceback": [
      "\u001b[1;31m---------------------------------------------------------------------------\u001b[0m",
      "\u001b[1;31mTypeError\u001b[0m                                 Traceback (most recent call last)",
      "\u001b[1;32m<ipython-input-28-71ae6f61b2b4>\u001b[0m in \u001b[0;36m<module>\u001b[1;34m\u001b[0m\n\u001b[1;32m----> 1\u001b[1;33m t_primal_M, y_primal_M = runge_kutta_matrix(ode_fun=M_RHS,\n\u001b[0m\u001b[0;32m      2\u001b[0m                                             \u001b[0mt_final\u001b[0m\u001b[1;33m=\u001b[0m\u001b[1;36m1\u001b[0m\u001b[1;33m,\u001b[0m\u001b[1;33m\u001b[0m\u001b[1;33m\u001b[0m\u001b[0m\n\u001b[0;32m      3\u001b[0m                                             \u001b[0mt_initial\u001b[0m\u001b[1;33m=\u001b[0m\u001b[1;36m0\u001b[0m\u001b[1;33m,\u001b[0m\u001b[1;33m\u001b[0m\u001b[1;33m\u001b[0m\u001b[0m\n\u001b[0;32m      4\u001b[0m                                             \u001b[0my_terminal\u001b[0m\u001b[1;33m=\u001b[0m\u001b[0my_primal_terminal\u001b[0m\u001b[1;33m,\u001b[0m\u001b[1;33m\u001b[0m\u001b[1;33m\u001b[0m\u001b[0m\n\u001b[0;32m      5\u001b[0m                                             n=n)\n",
      "\u001b[1;32m<ipython-input-24-c885dcdde379>\u001b[0m in \u001b[0;36mrunge_kutta_matrix\u001b[1;34m(ode_fun, t_final, t_initial, y_terminal, n)\u001b[0m\n\u001b[0;32m     39\u001b[0m     \u001b[1;32mfor\u001b[0m \u001b[0mi\u001b[0m \u001b[1;32min\u001b[0m \u001b[0mrange\u001b[0m\u001b[1;33m(\u001b[0m\u001b[0mn\u001b[0m\u001b[1;33m)\u001b[0m\u001b[1;33m:\u001b[0m\u001b[1;33m\u001b[0m\u001b[1;33m\u001b[0m\u001b[0m\n\u001b[0;32m     40\u001b[0m         \u001b[1;31m# Calculate intermediate values k1, k2, k3, and k4\u001b[0m\u001b[1;33m\u001b[0m\u001b[1;33m\u001b[0m\u001b[1;33m\u001b[0m\u001b[0m\n\u001b[1;32m---> 41\u001b[1;33m         \u001b[0mk1\u001b[0m \u001b[1;33m=\u001b[0m \u001b[0mh\u001b[0m \u001b[1;33m*\u001b[0m \u001b[0mode_fun\u001b[0m\u001b[1;33m(\u001b[0m\u001b[0mt\u001b[0m\u001b[1;33m[\u001b[0m\u001b[0mi\u001b[0m\u001b[1;33m]\u001b[0m\u001b[1;33m,\u001b[0m \u001b[0my\u001b[0m\u001b[1;33m[\u001b[0m\u001b[0mi\u001b[0m\u001b[1;33m,\u001b[0m \u001b[1;33m:\u001b[0m\u001b[1;33m,\u001b[0m \u001b[1;33m:\u001b[0m\u001b[1;33m]\u001b[0m\u001b[1;33m)\u001b[0m\u001b[1;33m\u001b[0m\u001b[1;33m\u001b[0m\u001b[0m\n\u001b[0m\u001b[0;32m     42\u001b[0m         \u001b[0mk2\u001b[0m \u001b[1;33m=\u001b[0m \u001b[0mh\u001b[0m \u001b[1;33m*\u001b[0m \u001b[0mode_fun\u001b[0m\u001b[1;33m(\u001b[0m\u001b[0mt\u001b[0m\u001b[1;33m[\u001b[0m\u001b[0mi\u001b[0m\u001b[1;33m]\u001b[0m \u001b[1;33m-\u001b[0m \u001b[0mh\u001b[0m\u001b[1;33m/\u001b[0m\u001b[1;36m2\u001b[0m\u001b[1;33m,\u001b[0m \u001b[0my\u001b[0m\u001b[1;33m[\u001b[0m\u001b[0mi\u001b[0m\u001b[1;33m,\u001b[0m \u001b[1;33m:\u001b[0m\u001b[1;33m,\u001b[0m \u001b[1;33m:\u001b[0m\u001b[1;33m]\u001b[0m \u001b[1;33m+\u001b[0m \u001b[0mk1\u001b[0m\u001b[1;33m/\u001b[0m\u001b[1;36m2\u001b[0m\u001b[1;33m)\u001b[0m\u001b[1;33m\u001b[0m\u001b[1;33m\u001b[0m\u001b[0m\n\u001b[0;32m     43\u001b[0m         \u001b[0mk3\u001b[0m \u001b[1;33m=\u001b[0m \u001b[0mh\u001b[0m \u001b[1;33m*\u001b[0m \u001b[0mode_fun\u001b[0m\u001b[1;33m(\u001b[0m\u001b[0mt\u001b[0m\u001b[1;33m[\u001b[0m\u001b[0mi\u001b[0m\u001b[1;33m]\u001b[0m \u001b[1;33m-\u001b[0m \u001b[0mh\u001b[0m\u001b[1;33m/\u001b[0m\u001b[1;36m2\u001b[0m\u001b[1;33m,\u001b[0m \u001b[0my\u001b[0m\u001b[1;33m[\u001b[0m\u001b[0mi\u001b[0m\u001b[1;33m,\u001b[0m \u001b[1;33m:\u001b[0m\u001b[1;33m,\u001b[0m \u001b[1;33m:\u001b[0m\u001b[1;33m]\u001b[0m \u001b[1;33m+\u001b[0m \u001b[0mk2\u001b[0m\u001b[1;33m/\u001b[0m\u001b[1;36m2\u001b[0m\u001b[1;33m)\u001b[0m\u001b[1;33m\u001b[0m\u001b[1;33m\u001b[0m\u001b[0m\n",
      "\u001b[1;32m<ipython-input-26-6360d1f54e96>\u001b[0m in \u001b[0;36mM_RHS\u001b[1;34m(t, y)\u001b[0m\n\u001b[0;32m     39\u001b[0m \u001b[1;33m\u001b[0m\u001b[0m\n\u001b[0;32m     40\u001b[0m     \u001b[0mp\u001b[0m \u001b[1;33m=\u001b[0m \u001b[0mP\u001b[0m\u001b[1;33m\u001b[0m\u001b[1;33m\u001b[0m\u001b[0m\n\u001b[1;32m---> 41\u001b[1;33m     \u001b[0mkappa\u001b[0m \u001b[1;33m=\u001b[0m \u001b[1;33m-\u001b[0m \u001b[0mnp\u001b[0m\u001b[1;33m.\u001b[0m\u001b[0mlinalg\u001b[0m\u001b[1;33m.\u001b[0m\u001b[0minv\u001b[0m\u001b[1;33m(\u001b[0m\u001b[0mD\u001b[0m\u001b[1;33m(\u001b[0m\u001b[0mt\u001b[0m\u001b[1;33m)\u001b[0m\u001b[1;33m.\u001b[0m\u001b[0mT\u001b[0m \u001b[1;33m@\u001b[0m \u001b[0mp\u001b[0m \u001b[1;33m@\u001b[0m \u001b[0mD\u001b[0m\u001b[1;33m(\u001b[0m\u001b[0mt\u001b[0m\u001b[1;33m)\u001b[0m \u001b[1;33m+\u001b[0m \u001b[0mR\u001b[0m\u001b[1;33m)\u001b[0m \u001b[1;33m@\u001b[0m \u001b[0mB\u001b[0m\u001b[1;33m(\u001b[0m\u001b[0mt\u001b[0m\u001b[1;33m)\u001b[0m\u001b[1;33m.\u001b[0m\u001b[0mT\u001b[0m \u001b[1;33m@\u001b[0m \u001b[0my\u001b[0m\u001b[1;33m\u001b[0m\u001b[1;33m\u001b[0m\u001b[0m\n\u001b[0m\u001b[0;32m     42\u001b[0m     \u001b[0mtheta\u001b[0m \u001b[1;33m=\u001b[0m \u001b[0mnp\u001b[0m\u001b[1;33m.\u001b[0m\u001b[0mlinalg\u001b[0m\u001b[1;33m.\u001b[0m\u001b[0minv\u001b[0m\u001b[1;33m(\u001b[0m\u001b[0mD\u001b[0m\u001b[1;33m(\u001b[0m\u001b[0mt\u001b[0m\u001b[1;33m)\u001b[0m\u001b[1;33m.\u001b[0m\u001b[0mT\u001b[0m \u001b[1;33m@\u001b[0m \u001b[0mp\u001b[0m \u001b[1;33m@\u001b[0m \u001b[0mD\u001b[0m\u001b[1;33m(\u001b[0m\u001b[0mt\u001b[0m\u001b[1;33m)\u001b[0m \u001b[1;33m-\u001b[0m \u001b[0mR\u001b[0m\u001b[1;33m)\u001b[0m \u001b[1;33m@\u001b[0m \u001b[1;33m(\u001b[0m\u001b[0mS\u001b[0m \u001b[1;33m-\u001b[0m \u001b[0mB\u001b[0m\u001b[1;33m(\u001b[0m\u001b[0mt\u001b[0m\u001b[1;33m)\u001b[0m\u001b[1;33m.\u001b[0m\u001b[0mT\u001b[0m \u001b[1;33m@\u001b[0m \u001b[0mp\u001b[0m \u001b[1;33m-\u001b[0m \u001b[0mD\u001b[0m\u001b[1;33m(\u001b[0m\u001b[0mt\u001b[0m\u001b[1;33m)\u001b[0m\u001b[1;33m.\u001b[0m\u001b[0mT\u001b[0m \u001b[1;33m@\u001b[0m \u001b[0mp\u001b[0m \u001b[1;33m@\u001b[0m \u001b[0mC\u001b[0m\u001b[1;33m(\u001b[0m\u001b[0mt\u001b[0m\u001b[1;33m)\u001b[0m\u001b[1;33m)\u001b[0m\u001b[1;33m\u001b[0m\u001b[1;33m\u001b[0m\u001b[0m\n\u001b[0;32m     43\u001b[0m \u001b[1;33m\u001b[0m\u001b[0m\n",
      "\u001b[1;31mTypeError\u001b[0m: 'numpy.ndarray' object is not callable"
     ]
    }
   ],
   "source": [
    "t_primal_M, y_primal_M = runge_kutta_matrix(ode_fun=M_RHS,\n",
    "                                            t_final=1,\n",
    "                                            t_initial=0,\n",
    "                                            y_terminal=y_primal_terminal,\n",
    "                                            n=n)\n"
   ]
  },
  {
   "cell_type": "code",
   "execution_count": null,
   "metadata": {},
   "outputs": [],
   "source": []
  },
  {
   "cell_type": "code",
   "execution_count": null,
   "metadata": {},
   "outputs": [],
   "source": []
  }
 ],
 "metadata": {
  "kernelspec": {
   "display_name": "Python 3",
   "language": "python",
   "name": "python3"
  },
  "language_info": {
   "codemirror_mode": {
    "name": "ipython",
    "version": 3
   },
   "file_extension": ".py",
   "mimetype": "text/x-python",
   "name": "python",
   "nbconvert_exporter": "python",
   "pygments_lexer": "ipython3",
   "version": "3.8.8"
  },
  "orig_nbformat": 4,
  "vscode": {
   "interpreter": {
    "hash": "58dbfdb34cf82127b32c5737e6183911655ff227e5c11e8f5e4b25048ae98ef2"
   }
  }
 },
 "nbformat": 4,
 "nbformat_minor": 2
}
