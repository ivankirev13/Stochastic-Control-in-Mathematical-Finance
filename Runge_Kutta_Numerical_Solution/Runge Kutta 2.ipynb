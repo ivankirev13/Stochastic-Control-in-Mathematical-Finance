{
 "cells": [
  {
   "attachments": {},
   "cell_type": "markdown",
   "metadata": {},
   "source": [
    "# Title"
   ]
  },
  {
   "attachments": {},
   "cell_type": "markdown",
   "metadata": {},
   "source": [
    "ODE:\n",
    "\n",
    "\\begin{equation*}\n",
    "    \\frac{d \\varphi}{d t} + \\varphi A + A^T \\varphi + \\varphi B \\vartheta + \\vartheta^T B^T \\varphi + \\sum_{i=1}^d (C_i^T + \\vartheta^T D_i^T) \\varphi (C_i + D_i \\vartheta) - Q - S^T \\vartheta - \\vartheta^T S - \\vartheta^T R \\vartheta  = 0\n",
    "\\end{equation*}\n",
    "where\n",
    "\\begin{equation*}\n",
    "    \\vartheta = \\bigg[ \\sum_{i=1}^d D_i^T \\varphi D_i - 2 R \\bigg]^{-1} \\bigg( S - B^T \\varphi - \\sum_{i=1}^d D_i^T \\varphi C_i \\bigg)\n",
    "\\end{equation*}\n",
    "with\n",
    "\\begin{equation*}\n",
    "    \\varphi \\in R^{n \\times n}, \\quad A \\in R^{n \\times n}, \\quad C_i \\in R^{n \\times n}, \\quad B \\in R^{n \\times m}, \\quad D_i \\in R^{n \\times m}, \\quad Q \\in R^{n \\times n}R^{n \\times n}, \\quad S \\in R^{m \\times n}, \\quad R \\in R^{m \\times m}\n",
    "\\end{equation*}\n",
    "and terminal conditions\n",
    "\\begin{equation*}\n",
    "    \\varphi(T) = - G(T) \\in R^{n \\times n}\n",
    "\\end{equation*}"
   ]
  },
  {
   "cell_type": "code",
   "execution_count": 21,
   "metadata": {},
   "outputs": [],
   "source": [
    "import numpy as np\n",
    "from matplotlib import pyplot as plt\n",
    "from scipy.integrate import RK45\n",
    "from scipy.integrate import RK23\n",
    "import scipy"
   ]
  },
  {
   "cell_type": "code",
   "execution_count": 22,
   "metadata": {},
   "outputs": [],
   "source": [
    "Q = np.array([[16,1], [1,16]])  # Symmetric\n",
    "S = np.array([[0,0], [0,0]])\n",
    "R = np.array([[10,5], [5,10]])\n",
    "A = np.array([[2,1], [1,2]])\n",
    "B = np.array([[3,1], [1,3]])\n",
    "C_1 = np.array([[1,5], [5,1]])\n",
    "C_2 = np.array([[7,1], [1,7]])\n",
    "D_1 = np.array([[4,1], [1,4]])\n",
    "D_2 = np.array([[1,18], [18,1]])\n",
    "G_T = np.array([-1, -2, -2, -1])"
   ]
  },
  {
   "cell_type": "code",
   "execution_count": 23,
   "metadata": {},
   "outputs": [],
   "source": [
    "T = 10\n",
    "t0 = 6\n",
    "S = np.random.rand(2,2)\n",
    "G_T = - np.reshape(S @ S.T, (4,))\n",
    "G_T = np.array([-1, -2, -2, -1])\n",
    "G_T_inv = np.reshape(np.linalg.inv(np.reshape(G_T, (2,2))), (4,))"
   ]
  },
  {
   "cell_type": "code",
   "execution_count": 24,
   "metadata": {},
   "outputs": [],
   "source": [
    "def derivative(t,y):\n",
    "    \n",
    "    y = np.reshape(y, (2,2))\n",
    "\n",
    "    #theta = np.linalg.inv(D_1.T @ y @ D_1 + D_2.T @ y @ D_2 - R) @ (- B.T @ y - D_1.T @ y @ C_1 - D_2.T @ y @ C_2)\n",
    "    theta = np.linalg.inv(D_1.T @ y @ D_1 - R) @ (- B.T @ y - D_1.T @ y @ C_1)\n",
    "    #value = Q + theta.T @ R @ theta - 2 * y @ A  - 2* y @ B @ theta - (C_1.T + theta.T @ D_1.T) @ y @ (C_1 + D_1 @ theta) - (C_2.T + theta.T @ D_2.T) @ y @ (C_2 + D_2 @ theta)\n",
    "    value = Q + theta.T @ R @ theta - 2 * y @ A  - 2* y @ B @ theta - (C_1.T + theta.T @ D_1.T) @ y @ (C_1 + D_1 @ theta)\n",
    "    return value\n",
    "\n",
    "solution = RK45(derivative,\n",
    "                t0=10, \n",
    "                y0=G_T, \n",
    "                t_bound=t0,\n",
    "                rtol=0.000001,\n",
    "                vectorized=True)\n",
    "\n",
    "# collect data\n",
    "t_values = [T]\n",
    "y_values0 = [G_T[0]]\n",
    "y_values1 = [G_T[1]]\n",
    "y_values2 = [G_T[2]]\n",
    "y_values3 = [G_T[3]]\n",
    "for i in range(1000):\n",
    "    # get solution step state\n",
    "    solution.step()\n",
    "    t_values.append(solution.t)\n",
    "    y_values0.append(solution.y[0])\n",
    "    y_values1.append(solution.y[1])\n",
    "    y_values2.append(solution.y[2])\n",
    "    y_values3.append(solution.y[3])\n",
    "    # break loop after modeling is finished\n",
    "    if solution.status == 'finished':\n",
    "        break"
   ]
  },
  {
   "attachments": {},
   "cell_type": "markdown",
   "metadata": {},
   "source": [
    "# Dual Problem"
   ]
  },
  {
   "attachments": {},
   "cell_type": "markdown",
   "metadata": {},
   "source": [
    "\\begin{align*}\n",
    "    \\frac{d \\tilde{P}}{d t} + \\tilde{P} \\tilde{\\vartheta} - \\tilde{P} A^T - \\tilde{P} \\sum_{i=1}^d C_i^T \\vartheta_i + \\tilde{\\vartheta}^T \\tilde{P} - A \\tilde{P} -\\sum_{i=1}^d \\tilde{\\vartheta}_i C_i \\tilde{P} - \\sum_{i=1}^d\\tilde{\\vartheta}_i^T\\tilde{P} \\tilde{\\vartheta}_i - \\tilde{\\vartheta}^T \\tilde{Q}\\tilde{\\vartheta}\\\\\n",
    "    - 2\\tilde{\\vartheta}^T \\tilde{S}(B^T + \\sum_{i=1}^d D_i^T \\vartheta_i) - (B + \\sum_{i=1}^d\\tilde{\\vartheta}_i^T D_i)\\tilde{R} (B^T + \\sum_{i=1}^d D_i^T \\tilde{\\vartheta}_i) = 0\n",
    "\\end{align*}"
   ]
  },
  {
   "cell_type": "code",
   "execution_count": 25,
   "metadata": {},
   "outputs": [],
   "source": [
    "Q_tilde = np.linalg.inv(Q) - np.linalg.inv(Q) @ S.T @ np.linalg.inv(S @ np.linalg.inv(Q) @ S.T - R) @ S @ np.linalg.inv(Q)\n",
    "R_tilde = np.linalg.inv(R) - np.linalg.inv(R) @ S @ np.linalg.inv(S.T @ np.linalg.inv(R) @ S - np.linalg.inv(Q)) @ S.T @ np.linalg.inv(R)\n",
    "S_tilde = np.linalg.inv(S @ np.linalg.inv(Q) @ S.T - R) @ S @ np.linalg.inv(Q)"
   ]
  },
  {
   "cell_type": "code",
   "execution_count": 26,
   "metadata": {},
   "outputs": [],
   "source": [
    "Q_tilde = np.linalg.inv(Q)\n",
    "R_tilde = np.linalg.inv(R)"
   ]
  },
  {
   "cell_type": "code",
   "execution_count": 27,
   "metadata": {},
   "outputs": [],
   "source": [
    "def derivative_dual(t,y):\n",
    "    \n",
    "    y = np.reshape(y, (2,2))\n",
    "\n",
    "    #theta_2 = np.linalg.inv(y - D_2 @ R_tilde @ D_2.T - D_2 @ R_tilde @ D_1.T @ np.linalg.inv(y - D_1 @ R_tilde @ D_1.T) @ D_1 @ R_tilde @ D_2.T) @ (C_2 @ y + D_2 @ R_tilde @ B.T + D_2 @ R_tilde @ D_1.T @ np.linalg.inv(y - D_1 @ R_tilde @ D_1.T) @ (C_1 @ y + D_1 @ R_tilde @ B.T) )\n",
    "    #theta_1 = np.linalg.inv(y - D_1 @ R_tilde @ D_1.T) @ (C_1 @ y + D_1 @ R_tilde @ B.T + D_1 @ R_tilde @ D_2.T @ theta_2)\n",
    "    theta_1 = np.linalg.inv(y - D_1 @ R_tilde @ D_1.T) @ (C_1 @ y + D_1 @ R_tilde @ B.T)\n",
    "    theta = np.linalg.inv(Q_tilde) @ y\n",
    "\n",
    "    #value = -2* y @ theta + 2*y @ A.T + 2 * y @ C_1.T @ theta_1 + 2 * y @ C_2.T @ theta_2 + theta_1.T @ y @ theta_1 + theta_2 @ y @ theta_2 + theta.T @ Q_tilde @ theta + (B + theta_1.T @ D_1 + theta_2.T @ D_2) @ R_tilde @ (B.T + D_1.T @ theta_1 + D_2.T @ theta_2)\n",
    "    value = -2* y @ theta + 2*y @ A.T + 2 * y @ C_1.T @ theta_1 + theta_1.T @ y @ theta_1 + theta.T @ Q_tilde @ theta + (B + theta_1.T @ D_1) @ R_tilde @ (B.T + D_1.T @ theta_1)\n",
    "    value3 = -y @ Q @ y + 2 * A @ y - y @ C_1.T @ np.linalg.inv(D_1 @ R_tilde @ D_1.T - y) @ C_1 @ y - 2 * B @ R_tilde @ D_1.T @ np.linalg.inv(D_1 @ R_tilde @ D_1.T - y) @ C_1 @ y - B @ (R_tilde @ D_1.T @ np.linalg.inv(D_1 @ R_tilde @ D_1.T - y) @ D_1 @ R_tilde - R_tilde) @ B.T\n",
    "    return value3\n",
    "\n",
    "\n",
    "solution_dual = RK45(derivative_dual, \n",
    "                     t0=10, \n",
    "                     y0=G_T_inv,\n",
    "                     t_bound=t0,\n",
    "                     rtol=0.0000001,\n",
    "                     vectorized=True)\n",
    "# collect data\n",
    "t_values_dual = [T]\n",
    "y_values0_dual = [G_T[0]]\n",
    "y_values1_dual = [G_T[1]]\n",
    "y_values2_dual = [G_T[2]]\n",
    "y_values3_dual = [G_T[3]]\n",
    "for i in range(1000):\n",
    "    # get solution step state\n",
    "    solution_dual.step()\n",
    "    t_values_dual.append(solution_dual.t)\n",
    "    y_array_dual = np.linalg.inv(np.reshape(np.array([solution_dual.y[0], solution_dual.y[1], solution_dual.y[2], solution_dual.y[3]]), (2,2)))\n",
    "    y_array_dual = np.reshape(y_array_dual, (4,))\n",
    "    y_values0_dual.append(y_array_dual[0])\n",
    "    y_values1_dual.append(y_array_dual[1])\n",
    "    y_values2_dual.append(y_array_dual[2])\n",
    "    y_values3_dual.append(y_array_dual[3])\n",
    "    # break loop after modeling is finished\n",
    "    if solution_dual.status == 'finished':\n",
    "        break"
   ]
  },
  {
   "cell_type": "code",
   "execution_count": 28,
   "metadata": {},
   "outputs": [
    {
     "data": {
      "image/png": "[encoded data removed]",
      "text/plain": [
       "<Figure size 1440x720 with 1 Axes>"
      ]
     },
     "metadata": {
      "needs_background": "light"
     },
     "output_type": "display_data"
    }
   ],
   "source": [
    "plt.figure(figsize=(20,10))\n",
    "\n",
    "plt.plot(t_values, y_values0, color='C0')\n",
    "plt.plot(t_values, y_values1, color='C0')\n",
    "plt.plot(t_values, y_values2, color='C0')\n",
    "plt.plot(t_values, y_values3, color='C0')\n",
    "\n",
    "plt.plot(t_values_dual, y_values0_dual, color='C2')\n",
    "plt.plot(t_values_dual, y_values1_dual, color='C2')\n",
    "plt.plot(t_values_dual, y_values2_dual, color='C2')\n",
    "plt.plot(t_values_dual, y_values3_dual, color='C2')\n",
    "plt.show()"
   ]
  },
  {
   "cell_type": "code",
   "execution_count": null,
   "metadata": {},
   "outputs": [],
   "source": []
  },
  {
   "cell_type": "code",
   "execution_count": null,
   "metadata": {},
   "outputs": [],
   "source": []
  }
 ],
 "metadata": {
  "kernelspec": {
   "display_name": "base",
   "language": "python",
   "name": "python3"
  },
  "language_info": {
   "codemirror_mode": {
    "name": "ipython",
    "version": 3
   },
   "file_extension": ".py",
   "mimetype": "text/x-python",
   "name": "python",
   "nbconvert_exporter": "python",
   "pygments_lexer": "ipython3",
   "version": "3.10.10"
  },
  "orig_nbformat": 4,
  "vscode": {
   "interpreter": {
    "hash": "2043299c89c8cd0b4d1a6f5cf4529bd58e6a4e0fe3181a25e0d328c821cdc5c5"
   }
  }
 },
 "nbformat": 4,
 "nbformat_minor": 2
}
